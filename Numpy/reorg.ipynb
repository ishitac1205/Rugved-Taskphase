{
 "cells": [
  {
   "cell_type": "code",
   "execution_count": null,
   "id": "c9c41254-b0e0-4a59-b699-5a7bad5b7167",
   "metadata": {},
   "outputs": [],
   "source": []
  },
  {
   "cell_type": "code",
   "execution_count": 1,
   "id": "0b9a5947-5e99-4e43-9c9c-039eb7f8ea3f",
   "metadata": {},
   "outputs": [],
   "source": [
    "import numpy as np"
   ]
  },
  {
   "cell_type": "code",
   "execution_count": 2,
   "id": "b00857bf-91fc-4f9b-bf18-b08676007385",
   "metadata": {},
   "outputs": [
    {
     "name": "stdout",
     "output_type": "stream",
     "text": [
      "[[1]\n",
      " [2]\n",
      " [3]\n",
      " [4]\n",
      " [5]\n",
      " [6]]\n"
     ]
    }
   ],
   "source": [
    "#change shape\n",
    "a=np.array([[1,2,3],[4,5,6]])\n",
    "b=a.reshape((6,1))\n",
    "print(b)"
   ]
  },
  {
   "cell_type": "code",
   "execution_count": 4,
   "id": "3ddd846e-3492-4692-8f0b-a4370c452179",
   "metadata": {},
   "outputs": [
    {
     "data": {
      "text/plain": [
       "array([[1, 2, 3],\n",
       "       [2, 3, 4],\n",
       "       [4, 5, 6],\n",
       "       [4, 3, 2]])"
      ]
     },
     "execution_count": 4,
     "metadata": {},
     "output_type": "execute_result"
    }
   ],
   "source": [
    "c=np.array([[1,2,3],[2,3,4]])\n",
    "d=np.array([[4,5,6],[4,3,2]])\n",
    "np.vstack([c,d])"
   ]
  },
  {
   "cell_type": "code",
   "execution_count": 5,
   "id": "0d27e373-1963-439b-888c-4d8c5e72f473",
   "metadata": {},
   "outputs": [
    {
     "data": {
      "text/plain": [
       "array([[1, 2, 3, 4, 5, 6],\n",
       "       [2, 3, 4, 4, 3, 2]])"
      ]
     },
     "execution_count": 5,
     "metadata": {},
     "output_type": "execute_result"
    }
   ],
   "source": [
    "np.hstack([c,d])"
   ]
  },
  {
   "cell_type": "code",
   "execution_count": null,
   "id": "85928aa9-72c5-4d1a-bb20-e1a92aab1fd9",
   "metadata": {},
   "outputs": [],
   "source": []
  }
 ],
 "metadata": {
  "kernelspec": {
   "display_name": "Python 3 (ipykernel)",
   "language": "python",
   "name": "python3"
  },
  "language_info": {
   "codemirror_mode": {
    "name": "ipython",
    "version": 3
   },
   "file_extension": ".py",
   "mimetype": "text/x-python",
   "name": "python",
   "nbconvert_exporter": "python",
   "pygments_lexer": "ipython3",
   "version": "3.9.12"
  }
 },
 "nbformat": 4,
 "nbformat_minor": 5
}
