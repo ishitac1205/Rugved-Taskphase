{
 "cells": [
  {
   "cell_type": "code",
   "execution_count": 4,
   "id": "7735ed99-6739-4211-9e7f-4ce82cb7ec6f",
   "metadata": {},
   "outputs": [],
   "source": [
    "import pandas as pd"
   ]
  },
  {
   "cell_type": "code",
   "execution_count": 5,
   "id": "cac691f1-b8a7-4633-83ce-09ee25fbd70f",
   "metadata": {},
   "outputs": [],
   "source": [
    "f1=pd.read_csv('matches.csv')"
   ]
  },
  {
   "cell_type": "code",
   "execution_count": 6,
   "id": "d5e5ae5c-eb4f-44b6-90b6-57c3817cf102",
   "metadata": {},
   "outputs": [
    {
     "name": "stdout",
     "output_type": "stream",
     "text": [
      "Total no. of matches in 2008 are  58\n"
     ]
    }
   ],
   "source": [
    "#1\n",
    "c=f1[f1['season']==2008].shape[0]\n",
    "print(\"Total no. of matches in 2008 are \",c)\n"
   ]
  },
  {
   "cell_type": "code",
   "execution_count": 7,
   "id": "ce7298f9-c071-4fe1-86f9-5d9756adaa92",
   "metadata": {},
   "outputs": [
    {
     "name": "stdout",
     "output_type": "stream",
     "text": [
      "Minimum matches in  Bloemfontein\n",
      "Maximum matches in  Mumbai\n"
     ]
    }
   ],
   "source": [
    "#2\n",
    "t2=f1.groupby(['city']).count().sort_values(['id'])['id']\n",
    "\n",
    "print(\"Minimum matches in \",t2.index[0])\n",
    "print(\"Maximum matches in \", t2.index[-1])\n",
    "\n",
    "#print(f1['city'].value_counts().idxmax())\n",
    "#print(f1['city'].value_counts().idxmin())\n"
   ]
  },
  {
   "cell_type": "code",
   "execution_count": 46,
   "id": "08739eb4-5d75-4f43-9f44-0ef4c444cbf3",
   "metadata": {},
   "outputs": [
    {
     "data": {
      "text/plain": [
       "city\n",
       "Abu Dhabi           7\n",
       "Ahmedabad          12\n",
       "Bangalore          66\n",
       "Bengaluru          14\n",
       "Bloemfontein        2\n",
       "Cape Town           7\n",
       "Centurion          12\n",
       "Chandigarh         46\n",
       "Chennai            57\n",
       "Cuttack             7\n",
       "Delhi              74\n",
       "Dharamsala          9\n",
       "Durban             15\n",
       "East London         3\n",
       "Hyderabad          64\n",
       "Indore              9\n",
       "Jaipur             47\n",
       "Johannesburg        8\n",
       "Kanpur              4\n",
       "Kimberley           3\n",
       "Kochi               5\n",
       "Kolkata            77\n",
       "Mohali             10\n",
       "Mumbai            101\n",
       "Nagpur              3\n",
       "Port Elizabeth      7\n",
       "Pune               38\n",
       "Raipur              6\n",
       "Rajkot             10\n",
       "Ranchi              7\n",
       "Sharjah             6\n",
       "Visakhapatnam      13\n",
       "Name: id, dtype: int64"
      ]
     },
     "execution_count": 46,
     "metadata": {},
     "output_type": "execute_result"
    }
   ],
   "source": [
    "#3\n",
    "f1.groupby(['city']).count()['id']"
   ]
  },
  {
   "cell_type": "code",
   "execution_count": 55,
   "id": "d25039a6-20d6-4822-8c53-bad8c168422d",
   "metadata": {},
   "outputs": [
    {
     "name": "stdout",
     "output_type": "stream",
     "text": [
      "Minimum toss winner is  Rising Pune Supergiant\n",
      "Maximum toss winner is  Mumbai Indians\n"
     ]
    }
   ],
   "source": [
    "#4\n",
    "t4=f1.groupby(['toss_winner']).count().sort_values('id')['id']\n",
    "print(\"Minimum toss winner is \",t4.index[0])\n",
    "print(\"Maximum toss winner is \",t4.index[-1])"
   ]
  },
  {
   "cell_type": "code",
   "execution_count": null,
   "id": "a4b972b7-e702-4172-bda6-e9b16be05f00",
   "metadata": {},
   "outputs": [],
   "source": [
    "#5\n"
   ]
  },
  {
   "cell_type": "code",
   "execution_count": 61,
   "id": "c1307e01-c018-4e08-9cbe-7ab2e3e5fdd6",
   "metadata": {},
   "outputs": [
    {
     "name": "stdout",
     "output_type": "stream",
     "text": [
      "Total tie matches =  9\n",
      "Total normal matches =  743\n"
     ]
    }
   ],
   "source": [
    "#6\n",
    "t6=f1.groupby(['result']).count()['id']\n",
    "print(\"Total tie matches = \",t6['tie'])\n",
    "print(\"Total normal matches = \",t6['normal'])\n"
   ]
  },
  {
   "cell_type": "code",
   "execution_count": 73,
   "id": "47eb2a0c-ed48-4d80-8a69-d8a3ebe1681c",
   "metadata": {},
   "outputs": [
    {
     "name": "stdout",
     "output_type": "stream",
     "text": [
      "                           team1                        team2\n",
      "33                 Gujarat Lions               Mumbai Indians\n",
      "125             Rajasthan Royals        Kolkata Knight Riders\n",
      "189              Kings XI Punjab          Chennai Super Kings\n",
      "387  Royal Challengers Bangalore          Sunrisers Hyderabad\n",
      "400             Delhi Daredevils  Royal Challengers Bangalore\n",
      "475             Rajasthan Royals        Kolkata Knight Riders\n",
      "535             Rajasthan Royals              Kings XI Punjab\n",
      "705        Kolkata Knight Riders               Delhi Capitals\n",
      "746               Mumbai Indians          Sunrisers Hyderabad\n"
     ]
    }
   ],
   "source": [
    "#7\n",
    "print(f1[f1['result']==\"tie\"][['team1','team2']])"
   ]
  },
  {
   "cell_type": "code",
   "execution_count": 100,
   "id": "4c2ee80a-ca3e-4aab-b38f-d435ed7ee737",
   "metadata": {},
   "outputs": [
    {
     "data": {
      "text/plain": [
       "'Mumbai Indians'"
      ]
     },
     "execution_count": 100,
     "metadata": {},
     "output_type": "execute_result"
    }
   ],
   "source": [
    "#8\n",
    "f1.sort_values('win_by_runs',ascending=False).iloc[0,10]"
   ]
  },
  {
   "cell_type": "code",
   "execution_count": 103,
   "id": "625acfb8-b100-4aed-879a-43f269256c89",
   "metadata": {},
   "outputs": [
    {
     "data": {
      "text/plain": [
       "'Delhi Daredevils'"
      ]
     },
     "execution_count": 103,
     "metadata": {},
     "output_type": "execute_result"
    }
   ],
   "source": [
    "#9\n",
    "f1.sort_values('win_by_runs').iloc[0,10]"
   ]
  },
  {
   "cell_type": "code",
   "execution_count": 108,
   "id": "a64ece11-00f1-4a33-9383-ea17f74534ec",
   "metadata": {},
   "outputs": [
    {
     "name": "stdout",
     "output_type": "stream",
     "text": [
      "A Mishra \n",
      "\n",
      "A Nehra \n",
      "\n",
      "AB de Villiers \n",
      "\n",
      "AC Gilchrist \n",
      "\n",
      "AD Russell \n",
      "\n",
      "AJ Finch \n",
      "\n",
      "AM Rahane \n",
      "\n",
      "AR Patel \n",
      "\n",
      "AT Rayudu \n",
      "\n",
      "B Kumar \n",
      "\n",
      "BB McCullum \n",
      "\n",
      "BJ Hodge \n",
      "\n",
      "CA Lynn \n",
      "\n",
      "CH Gayle \n",
      "\n",
      "DA Warner \n",
      "\n",
      "DPMD Jayawardene \n",
      "\n",
      "DR Smith \n",
      "\n",
      "DW Steyn \n",
      "\n",
      "F du Plessis \n",
      "\n",
      "G Gambhir \n",
      "\n",
      "GJ Maxwell \n",
      "\n",
      "HH Pandya \n",
      "\n",
      "Harbhajan Singh \n",
      "\n",
      "JC Buttler \n",
      "\n",
      "JD Unadkat \n",
      "\n",
      "JH Kallis \n",
      "\n",
      "JJ Bumrah \n",
      "\n",
      "JP Duminy \n",
      "\n",
      "JP Faulkner \n",
      "\n",
      "KA Pollard \n",
      "\n",
      "KC Sangakkara \n",
      "\n",
      "KD Karthik \n",
      "\n",
      "KH Pandya \n",
      "\n",
      "KL Rahul \n",
      "\n",
      "M Vijay \n",
      "\n",
      "MEK Hussey \n",
      "\n",
      "MK Pandey \n",
      "\n",
      "ML Hayden \n",
      "\n",
      "MS Dhoni \n",
      "\n",
      "N Rana \n",
      "\n",
      "NM Coulter-Nile \n",
      "\n",
      "PA Patel \n",
      "\n",
      "RA Jadeja \n",
      "\n",
      "RG Sharma \n",
      "\n",
      "RR Pant \n",
      "\n",
      "RV Uthappa \n",
      "\n",
      "Rashid Khan \n",
      "\n",
      "S Dhawan \n",
      "\n",
      "SC Ganguly \n",
      "\n",
      "SE Marsh \n",
      "\n",
      "SK Raina \n",
      "\n",
      "SK Warne \n",
      "\n",
      "SL Malinga \n",
      "\n",
      "SP Narine \n",
      "\n",
      "SPD Smith \n",
      "\n",
      "SR Tendulkar \n",
      "\n",
      "SR Watson \n",
      "\n",
      "SS Iyer \n",
      "\n",
      "SV Samson \n",
      "\n",
      "Sandeep Sharma \n",
      "\n",
      "UT Yadav \n",
      "\n",
      "V Kohli \n",
      "\n",
      "V Sehwag \n",
      "\n",
      "YK Pathan \n",
      "\n",
      "Yuvraj Singh \n",
      "\n"
     ]
    }
   ],
   "source": [
    "#10\n",
    "t10=f1.groupby(['player_of_match']).count()['id']\n",
    "\n",
    "for i in range(0,len(t10)):\n",
    "    if (t10[t10.index[i]]>3):\n",
    "        print(t10.index[i],\"\\n\")"
   ]
  },
  {
   "cell_type": "code",
   "execution_count": 112,
   "id": "76f4a0d9-2f46-4b7d-989b-f4a61f0b8ac8",
   "metadata": {},
   "outputs": [
    {
     "name": "stdout",
     "output_type": "stream",
     "text": [
      "CH Gayle\n"
     ]
    }
   ],
   "source": [
    "#11\n",
    "t11=f1.groupby(['player_of_match']).count().sort_values('id')['id']\n",
    "print(t11.index[-1])"
   ]
  },
  {
   "cell_type": "code",
   "execution_count": 115,
   "id": "bab56323-2b69-48b8-b005-75bfbc21af94",
   "metadata": {},
   "outputs": [
    {
     "data": {
      "text/plain": [
       "'Feroz Shah Kotla'"
      ]
     },
     "execution_count": 115,
     "metadata": {},
     "output_type": "execute_result"
    }
   ],
   "source": [
    "#12\n",
    "f1.sort_values('win_by_runs',ascending=False).iloc[0,-4]"
   ]
  },
  {
   "cell_type": "code",
   "execution_count": 116,
   "id": "baaa53b4-c6b2-4015-94a6-c178596313f7",
   "metadata": {},
   "outputs": [
    {
     "data": {
      "text/plain": [
       "'Rajiv Gandhi International Stadium, Uppal'"
      ]
     },
     "execution_count": 116,
     "metadata": {},
     "output_type": "execute_result"
    }
   ],
   "source": [
    "#13\n",
    "f1.sort_values('win_by_runs').iloc[0,-4]"
   ]
  },
  {
   "cell_type": "code",
   "execution_count": 133,
   "id": "e5871f1b-b58f-43fc-a0b7-828cbc2f3387",
   "metadata": {},
   "outputs": [
    {
     "data": {
      "text/plain": [
       "'S Ravi'"
      ]
     },
     "execution_count": 133,
     "metadata": {},
     "output_type": "execute_result"
    }
   ],
   "source": [
    "#14\n",
    "t14= pd.concat([f1['umpire1'],f1['umpire2']])\n",
    "#t14 is a data set like list\n",
    "t14.value_counts().idxmax()\n",
    "\n"
   ]
  },
  {
   "cell_type": "code",
   "execution_count": 135,
   "id": "a9a73369-1eaf-487f-8441-bd6069f6ee67",
   "metadata": {},
   "outputs": [
    {
     "data": {
      "text/plain": [
       "season\n",
       "2013    76\n",
       "2012    74\n",
       "2011    73\n",
       "2010    60\n",
       "2014    60\n",
       "2016    60\n",
       "2018    60\n",
       "2019    60\n",
       "2017    59\n",
       "2015    59\n",
       "2008    58\n",
       "2009    57\n",
       "Name: count, dtype: int64"
      ]
     },
     "execution_count": 135,
     "metadata": {},
     "output_type": "execute_result"
    }
   ],
   "source": [
    "#15\n",
    "f1['season'].value_counts()"
   ]
  },
  {
   "cell_type": "code",
   "execution_count": 140,
   "id": "bbc26df4-eb2b-42bd-93a0-2f4725d37978",
   "metadata": {},
   "outputs": [],
   "source": [
    "#16\n",
    "f2=pd.read_csv('deliveries.csv')"
   ]
  },
  {
   "cell_type": "code",
   "execution_count": 180,
   "id": "86bf381f-cb36-4208-8c8d-a2e4c1502a60",
   "metadata": {},
   "outputs": [
    {
     "data": {
      "text/plain": [
       "season\n",
       "2008    17937\n",
       "2009    16353\n",
       "2010    18883\n",
       "2011    21154\n",
       "2012    22453\n",
       "2013    22602\n",
       "2014    18931\n",
       "2015    18353\n",
       "2016    18862\n",
       "2017    18786\n",
       "2018    20706\n",
       "2019    20270\n",
       "Name: t_runs, dtype: int64"
      ]
     },
     "execution_count": 180,
     "metadata": {},
     "output_type": "execute_result"
    }
   ],
   "source": [
    "t16=f2.groupby('match_id').sum()['total_runs']\n",
    "\n",
    "f1['t_runs']=t16.values\n",
    "f1.groupby('season').sum()['t_runs']"
   ]
  },
  {
   "cell_type": "code",
   "execution_count": 139,
   "id": "ff400a2d-16af-4c92-bc29-694919b255e7",
   "metadata": {},
   "outputs": [
    {
     "data": {
      "text/plain": [
       "toss_winner\n",
       "Mumbai Indians                 98\n",
       "Kolkata Knight Riders          92\n",
       "Chennai Super Kings            89\n",
       "Royal Challengers Bangalore    81\n",
       "Kings XI Punjab                81\n",
       "Delhi Daredevils               80\n",
       "Rajasthan Royals               80\n",
       "Sunrisers Hyderabad            46\n",
       "Deccan Chargers                43\n",
       "Pune Warriors                  20\n",
       "Gujarat Lions                  15\n",
       "Delhi Capitals                 10\n",
       "Kochi Tuskers Kerala            8\n",
       "Rising Pune Supergiants         7\n",
       "Rising Pune Supergiant          6\n",
       "Name: count, dtype: int64"
      ]
     },
     "execution_count": 139,
     "metadata": {},
     "output_type": "execute_result"
    }
   ],
   "source": [
    "#17\n",
    "f1['toss_winner'].value_counts()"
   ]
  },
  {
   "cell_type": "code",
   "execution_count": null,
   "id": "1f788021-099e-4716-8b07-f5b3825ed6a4",
   "metadata": {},
   "outputs": [],
   "source": []
  }
 ],
 "metadata": {
  "kernelspec": {
   "display_name": "Python 3 (ipykernel)",
   "language": "python",
   "name": "python3"
  },
  "language_info": {
   "codemirror_mode": {
    "name": "ipython",
    "version": 3
   },
   "file_extension": ".py",
   "mimetype": "text/x-python",
   "name": "python",
   "nbconvert_exporter": "python",
   "pygments_lexer": "ipython3",
   "version": "3.9.12"
  }
 },
 "nbformat": 4,
 "nbformat_minor": 5
}
