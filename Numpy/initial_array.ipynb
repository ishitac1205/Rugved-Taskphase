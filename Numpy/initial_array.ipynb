{
 "cells": [
  {
   "cell_type": "code",
   "execution_count": 5,
   "id": "66d76cc6-cdf7-4dd2-ba74-60cebd1af4ba",
   "metadata": {},
   "outputs": [],
   "source": [
    "import numpy as np\n"
   ]
  },
  {
   "cell_type": "code",
   "execution_count": 9,
   "id": "dfa6d79b-60b5-45f7-88f9-31e2553ceeef",
   "metadata": {},
   "outputs": [
    {
     "data": {
      "text/plain": [
       "array([[0., 0.],\n",
       "       [0., 0.]])"
      ]
     },
     "execution_count": 9,
     "metadata": {},
     "output_type": "execute_result"
    }
   ],
   "source": [
    "np.zeros((2,2))"
   ]
  },
  {
   "cell_type": "code",
   "execution_count": 10,
   "id": "4f3af156-1319-4be9-874a-3491d6c242c9",
   "metadata": {},
   "outputs": [
    {
     "data": {
      "text/plain": [
       "array([[[1., 1., 1., 1.],\n",
       "        [1., 1., 1., 1.],\n",
       "        [1., 1., 1., 1.]],\n",
       "\n",
       "       [[1., 1., 1., 1.],\n",
       "        [1., 1., 1., 1.],\n",
       "        [1., 1., 1., 1.]]])"
      ]
     },
     "execution_count": 10,
     "metadata": {},
     "output_type": "execute_result"
    }
   ],
   "source": [
    "np.ones((2,3,4))"
   ]
  },
  {
   "cell_type": "code",
   "execution_count": 11,
   "id": "d1bc3659-1d41-4508-b656-ced18c7abbf4",
   "metadata": {},
   "outputs": [
    {
     "data": {
      "text/plain": [
       "array([[1., 0., 0.],\n",
       "       [0., 1., 0.],\n",
       "       [0., 0., 1.]])"
      ]
     },
     "execution_count": 11,
     "metadata": {},
     "output_type": "execute_result"
    }
   ],
   "source": [
    "np.identity(3)"
   ]
  },
  {
   "cell_type": "code",
   "execution_count": 12,
   "id": "aa40d9e3-8578-42cb-9d73-586ec8fd3b7a",
   "metadata": {},
   "outputs": [
    {
     "data": {
      "text/plain": [
       "array([[[0.31856159],\n",
       "        [0.45892831]],\n",
       "\n",
       "       [[0.63931379],\n",
       "        [0.21410814]],\n",
       "\n",
       "       [[0.61558563],\n",
       "        [0.10935098]],\n",
       "\n",
       "       [[0.48257719],\n",
       "        [0.14642074]]])"
      ]
     },
     "execution_count": 12,
     "metadata": {},
     "output_type": "execute_result"
    }
   ],
   "source": [
    "np.random.rand(4,2,1)"
   ]
  },
  {
   "cell_type": "code",
   "execution_count": 15,
   "id": "960e1f92-1fea-4c52-a5ea-e262d0557d88",
   "metadata": {},
   "outputs": [],
   "source": [
    "m=np.array([[1,2,3],[4,5,6]])\n"
   ]
  },
  {
   "cell_type": "code",
   "execution_count": 17,
   "id": "da2a66dd-c6d7-4696-92cd-0b041e0a401f",
   "metadata": {},
   "outputs": [
    {
     "data": {
      "text/plain": [
       "array([[7, 7],\n",
       "       [7, 7],\n",
       "       [7, 7]])"
      ]
     },
     "execution_count": 17,
     "metadata": {},
     "output_type": "execute_result"
    }
   ],
   "source": [
    "np.full((3,2),7)"
   ]
  },
  {
   "cell_type": "code",
   "execution_count": 18,
   "id": "1aa74e01-4aa8-45fe-a64c-0004066d1e18",
   "metadata": {},
   "outputs": [
    {
     "data": {
      "text/plain": [
       "array([[7, 7, 7],\n",
       "       [7, 7, 7]])"
      ]
     },
     "execution_count": 18,
     "metadata": {},
     "output_type": "execute_result"
    }
   ],
   "source": [
    "np.full(m.shape,7)"
   ]
  },
  {
   "cell_type": "code",
   "execution_count": 19,
   "id": "ba840fb1-1048-4854-9b5d-42bd7157d7d2",
   "metadata": {},
   "outputs": [
    {
     "data": {
      "text/plain": [
       "array([[7, 7, 7],\n",
       "       [7, 7, 7]])"
      ]
     },
     "execution_count": 19,
     "metadata": {},
     "output_type": "execute_result"
    }
   ],
   "source": [
    "np.full_like(m,7)"
   ]
  },
  {
   "cell_type": "code",
   "execution_count": 21,
   "id": "137cd026-14b6-4f3e-ab8b-613b4f310ab8",
   "metadata": {},
   "outputs": [
    {
     "data": {
      "text/plain": [
       "array([[0.49466175, 0.78165139],\n",
       "       [0.53226431, 0.42861065],\n",
       "       [0.58953014, 0.52370647],\n",
       "       [0.61445544, 0.909427  ]])"
      ]
     },
     "execution_count": 21,
     "metadata": {},
     "output_type": "execute_result"
    }
   ],
   "source": [
    "np.random.rand(4,2)"
   ]
  },
  {
   "cell_type": "code",
   "execution_count": 24,
   "id": "a35106bc-d81d-409e-83cf-aaeef669502a",
   "metadata": {},
   "outputs": [
    {
     "data": {
      "text/plain": [
       "array([[0.9470378 , 0.91068025, 0.40005453],\n",
       "       [0.47616811, 0.42093144, 0.09328898]])"
      ]
     },
     "execution_count": 24,
     "metadata": {},
     "output_type": "execute_result"
    }
   ],
   "source": [
    "np.random.random_sample(m.shape)"
   ]
  },
  {
   "cell_type": "code",
   "execution_count": 27,
   "id": "2174ed5a-e808-4ce3-9a40-27c7e74ed763",
   "metadata": {},
   "outputs": [
    {
     "data": {
      "text/plain": [
       "array([[3, 7, 9],\n",
       "       [8, 8, 1]])"
      ]
     },
     "execution_count": 27,
     "metadata": {},
     "output_type": "execute_result"
    }
   ],
   "source": [
    "np.random.randint(1,10,size=(m.shape))"
   ]
  },
  {
   "cell_type": "code",
   "execution_count": 28,
   "id": "0d073d4c-a804-4f45-8725-72b62e9ab520",
   "metadata": {},
   "outputs": [],
   "source": [
    "n=np.array([[1,3,4,5],[6,7,8,9]])\n"
   ]
  },
  {
   "cell_type": "code",
   "execution_count": 29,
   "id": "332e5ea3-a5aa-4f43-8957-97c50a85a7f2",
   "metadata": {},
   "outputs": [],
   "source": [
    "cp=np.repeat(n,4,axis=0)"
   ]
  },
  {
   "cell_type": "code",
   "execution_count": 30,
   "id": "f4c017a9-c25f-46c8-a069-445d0d06f27d",
   "metadata": {},
   "outputs": [
    {
     "name": "stdout",
     "output_type": "stream",
     "text": [
      "[[1 3 4 5]\n",
      " [1 3 4 5]\n",
      " [1 3 4 5]\n",
      " [1 3 4 5]\n",
      " [6 7 8 9]\n",
      " [6 7 8 9]\n",
      " [6 7 8 9]\n",
      " [6 7 8 9]]\n"
     ]
    }
   ],
   "source": [
    "print(cp)"
   ]
  },
  {
   "cell_type": "code",
   "execution_count": 31,
   "id": "64abf99b-122c-4efb-893b-1767f85722a3",
   "metadata": {},
   "outputs": [
    {
     "name": "stdout",
     "output_type": "stream",
     "text": [
      "[[1 3 4 5 6 7 8 9]\n",
      " [1 3 4 5 6 7 8 9]\n",
      " [1 3 4 5 6 7 8 9]\n",
      " [1 3 4 5 6 7 8 9]]\n"
     ]
    }
   ],
   "source": [
    "n=np.array([[1,3,4,5,6,7,8,9]])\n",
    "cp=np.repeat(n,4,axis=0)\n",
    "print(cp)"
   ]
  },
  {
   "cell_type": "code",
   "execution_count": 32,
   "id": "380eb723-f470-46c1-9a50-d8e84bfb32da",
   "metadata": {},
   "outputs": [
    {
     "name": "stdout",
     "output_type": "stream",
     "text": [
      "[1 1 1 1 3 3 3 3 4 4 4 4 5 5 5 5 6 6 6 6 7 7 7 7 8 8 8 8 9 9 9 9]\n"
     ]
    }
   ],
   "source": [
    "n=np.array([1,3,4,5,6,7,8,9])\n",
    "cp=np.repeat(n,4,axis=0)\n",
    "print(cp)"
   ]
  },
  {
   "cell_type": "code",
   "execution_count": 35,
   "id": "15f75ad3-fd61-4cdb-b80b-1bf65a77ba43",
   "metadata": {},
   "outputs": [],
   "source": [
    "#question\n",
    "q=np.ones((5,5))"
   ]
  },
  {
   "cell_type": "code",
   "execution_count": 36,
   "id": "6814e7a0-2c9d-4d69-9def-14e35a429da7",
   "metadata": {},
   "outputs": [
    {
     "name": "stdout",
     "output_type": "stream",
     "text": [
      "[[1. 1. 1. 1. 1.]\n",
      " [1. 1. 1. 1. 1.]\n",
      " [1. 1. 1. 1. 1.]\n",
      " [1. 1. 1. 1. 1.]\n",
      " [1. 1. 1. 1. 1.]]\n"
     ]
    }
   ],
   "source": [
    "print(q)"
   ]
  },
  {
   "cell_type": "code",
   "execution_count": 37,
   "id": "8eda2b47-c40b-4c5d-a972-abe932a7f959",
   "metadata": {},
   "outputs": [
    {
     "name": "stdout",
     "output_type": "stream",
     "text": [
      "[[1. 1. 1. 1. 1.]\n",
      " [1. 0. 0. 0. 1.]\n",
      " [1. 0. 0. 0. 1.]\n",
      " [1. 0. 0. 0. 1.]\n",
      " [1. 1. 1. 1. 1.]]\n"
     ]
    }
   ],
   "source": [
    "q[1:4,1:4]=0\n",
    "print(q)"
   ]
  },
  {
   "cell_type": "code",
   "execution_count": 38,
   "id": "0bfe5a29-a0c5-454a-b4b9-6d46e2db51cb",
   "metadata": {},
   "outputs": [
    {
     "name": "stdout",
     "output_type": "stream",
     "text": [
      "[[1. 1. 1. 1. 1.]\n",
      " [1. 0. 0. 0. 1.]\n",
      " [1. 0. 9. 0. 1.]\n",
      " [1. 0. 0. 0. 1.]\n",
      " [1. 1. 1. 1. 1.]]\n"
     ]
    }
   ],
   "source": [
    "q[2,2]=9\n",
    "print(q)"
   ]
  },
  {
   "cell_type": "code",
   "execution_count": 39,
   "id": "744fa904-7e65-43f1-bcc9-0d0c798c5771",
   "metadata": {},
   "outputs": [
    {
     "name": "stdout",
     "output_type": "stream",
     "text": [
      "[6 2 3]\n"
     ]
    }
   ],
   "source": [
    "#copying\n",
    "a=np.array([1,2,3])\n",
    "b=a\n",
    "b[0]=6\n",
    "print(a)"
   ]
  },
  {
   "cell_type": "code",
   "execution_count": 40,
   "id": "c46be8e4-d5ee-4ad2-90ec-80358c76c5a8",
   "metadata": {},
   "outputs": [
    {
     "name": "stdout",
     "output_type": "stream",
     "text": [
      "[1 2 3]\n"
     ]
    }
   ],
   "source": [
    "#therefore to prevent changes in a\n",
    "a=np.array([1,2,3])\n",
    "b=a.copy()\n",
    "b[0]=6\n",
    "print(a)"
   ]
  },
  {
   "cell_type": "code",
   "execution_count": null,
   "id": "244bfca4-bc84-47b4-aa23-14158d3b0901",
   "metadata": {},
   "outputs": [],
   "source": []
  }
 ],
 "metadata": {
  "kernelspec": {
   "display_name": "Python 3 (ipykernel)",
   "language": "python",
   "name": "python3"
  },
  "language_info": {
   "codemirror_mode": {
    "name": "ipython",
    "version": 3
   },
   "file_extension": ".py",
   "mimetype": "text/x-python",
   "name": "python",
   "nbconvert_exporter": "python",
   "pygments_lexer": "ipython3",
   "version": "3.9.12"
  }
 },
 "nbformat": 4,
 "nbformat_minor": 5
}
