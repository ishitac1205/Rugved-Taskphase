{
 "cells": [
  {
   "cell_type": "code",
   "execution_count": 1,
   "id": "2e930a63-800f-43f5-9365-d0ed9bd0dc36",
   "metadata": {},
   "outputs": [],
   "source": [
    "import numpy as np\n"
   ]
  },
  {
   "cell_type": "code",
   "execution_count": 3,
   "id": "e25d02a0-55a4-474c-9c3c-25fee2d6d465",
   "metadata": {},
   "outputs": [
    {
     "name": "stdout",
     "output_type": "stream",
     "text": [
      "[[[1 2]\n",
      "  [3 4]]\n",
      "\n",
      " [[5 6]\n",
      "  [7 8]]]\n"
     ]
    }
   ],
   "source": [
    "m=np.array([[[1,2],[3,4]],[[5,6],[7,8]]])\n",
    "print(m)"
   ]
  },
  {
   "cell_type": "code",
   "execution_count": 5,
   "id": "be444298-f81f-4bbe-8f71-23734d1cc277",
   "metadata": {},
   "outputs": [],
   "source": [
    "m[1,:,1]=[1,2]"
   ]
  },
  {
   "cell_type": "code",
   "execution_count": 6,
   "id": "598b316c-9c78-42a8-931e-f3262433fa6f",
   "metadata": {},
   "outputs": [
    {
     "name": "stdout",
     "output_type": "stream",
     "text": [
      "[[[1 2]\n",
      "  [3 4]]\n",
      "\n",
      " [[5 1]\n",
      "  [7 2]]]\n"
     ]
    }
   ],
   "source": [
    "print(m)"
   ]
  },
  {
   "cell_type": "code",
   "execution_count": 8,
   "id": "64a578fa-6451-4c4b-ad9d-3da49928af45",
   "metadata": {},
   "outputs": [
    {
     "data": {
      "text/plain": [
       "(2, 2)"
      ]
     },
     "execution_count": 8,
     "metadata": {},
     "output_type": "execute_result"
    }
   ],
   "source": [
    "m[:,1,:].shape\n"
   ]
  },
  {
   "cell_type": "code",
   "execution_count": 9,
   "id": "4a1d6f78-3f15-457e-8184-5b8983d9bb7b",
   "metadata": {},
   "outputs": [],
   "source": [
    "m[:,1,:]=[[9,9],[8,8]]"
   ]
  },
  {
   "cell_type": "code",
   "execution_count": 10,
   "id": "f466386d-62cd-4a67-b32f-87c67511758a",
   "metadata": {},
   "outputs": [
    {
     "name": "stdout",
     "output_type": "stream",
     "text": [
      "[[[1 2]\n",
      "  [9 9]]\n",
      "\n",
      " [[5 1]\n",
      "  [8 8]]]\n"
     ]
    }
   ],
   "source": [
    "print(m)"
   ]
  },
  {
   "cell_type": "code",
   "execution_count": null,
   "id": "4906bda9-b5f2-41c2-bbab-deb091767a31",
   "metadata": {},
   "outputs": [],
   "source": []
  }
 ],
 "metadata": {
  "kernelspec": {
   "display_name": "Python 3 (ipykernel)",
   "language": "python",
   "name": "python3"
  },
  "language_info": {
   "codemirror_mode": {
    "name": "ipython",
    "version": 3
   },
   "file_extension": ".py",
   "mimetype": "text/x-python",
   "name": "python",
   "nbconvert_exporter": "python",
   "pygments_lexer": "ipython3",
   "version": "3.9.12"
  }
 },
 "nbformat": 4,
 "nbformat_minor": 5
}
